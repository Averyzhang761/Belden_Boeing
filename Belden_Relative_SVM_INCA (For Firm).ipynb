{
 "cells": [
  {
   "cell_type": "markdown",
   "metadata": {
    "colab_type": "text",
    "id": "-nh_AkjFcpZf"
   },
   "source": [
    "## 2020 Belden Price Optimization Project\n",
    "## SVM Modeling\n",
    "**Package Importing**"
   ]
  },
  {
   "cell_type": "code",
   "execution_count": 0,
   "metadata": {
    "colab": {
     "base_uri": "https://localhost:8080/",
     "height": 292
    },
    "colab_type": "code",
    "id": "oW9uRfxQc0Xh",
    "outputId": "200b7c9c-1db3-4ed5-82a0-c71368150c90"
   },
   "outputs": [
    {
     "name": "stdout",
     "output_type": "stream",
     "text": [
      "Collecting scikit-learn==0.21.2\n",
      "\u001b[?25l  Downloading https://files.pythonhosted.org/packages/85/04/49633f490f726da6e454fddc8e938bbb5bfed2001681118d3814c219b723/scikit_learn-0.21.2-cp36-cp36m-manylinux1_x86_64.whl (6.7MB)\n",
      "\u001b[K     |████████████████████████████████| 6.7MB 2.7MB/s \n",
      "\u001b[?25hRequirement already satisfied: numpy>=1.11.0 in /usr/local/lib/python3.6/dist-packages (from scikit-learn==0.21.2) (1.18.5)\n",
      "Requirement already satisfied: joblib>=0.11 in /usr/local/lib/python3.6/dist-packages (from scikit-learn==0.21.2) (0.15.1)\n",
      "Requirement already satisfied: scipy>=0.17.0 in /usr/local/lib/python3.6/dist-packages (from scikit-learn==0.21.2) (1.4.1)\n",
      "Installing collected packages: scikit-learn\n",
      "  Found existing installation: scikit-learn 0.22.2.post1\n",
      "    Uninstalling scikit-learn-0.22.2.post1:\n",
      "      Successfully uninstalled scikit-learn-0.22.2.post1\n",
      "Successfully installed scikit-learn-0.21.2\n",
      "Populating the interactive namespace from numpy and matplotlib\n",
      "The scikit-learn version is 0.21.2.\n"
     ]
    },
    {
     "name": "stderr",
     "output_type": "stream",
     "text": [
      "/usr/local/lib/python3.6/dist-packages/sklearn/externals/joblib/__init__.py:15: DeprecationWarning: sklearn.externals.joblib is deprecated in 0.21 and will be removed in 0.23. Please import this functionality directly from joblib, which can be installed with: pip install joblib. If this warning is raised when loading pickled models, you may need to re-serialize those models with scikit-learn 0.21+.\n",
      "  warnings.warn(msg, category=DeprecationWarning)\n"
     ]
    }
   ],
   "source": [
    "# Install scikit learn 0.21.2 to ensure download and read models\n",
    "!pip install scikit-learn==0.21.2\n",
    "%pylab inline\n",
    "\n",
    "# Import basic python packages\n",
    "import numpy as np\n",
    "import pandas as pd\n",
    "%matplotlib inline\n",
    "import matplotlib.pylab as plt\n",
    "from matplotlib.pylab import rcParams\n",
    "\n",
    "# Import machine learning packages \n",
    "import sklearn\n",
    "from sklearn import svm\n",
    "from sklearn.model_selection import train_test_split \n",
    "from sklearn import metrics\n",
    "from sklearn.preprocessing import StandardScaler\n",
    "from sklearn.externals import joblib \n",
    "\n",
    "# Print sklearn version\n",
    "print('The scikit-learn version is {}.'.format(sklearn.__version__))"
   ]
  },
  {
   "cell_type": "code",
   "execution_count": 0,
   "metadata": {
    "colab": {},
    "colab_type": "code",
    "id": "tVg79yF6-g4E"
   },
   "outputs": [],
   "source": [
    "# Mount google drive (Not need this when running locally)\n",
    "from google.colab import drive\n",
    "drive.mount('/content/drive')"
   ]
  },
  {
   "cell_type": "markdown",
   "metadata": {
    "colab_type": "text",
    "id": "opSkbEsldQEM"
   },
   "source": [
    "## INCA Product\n",
    "**Data Filtering**"
   ]
  },
  {
   "cell_type": "code",
   "execution_count": 0,
   "metadata": {
    "colab": {},
    "colab_type": "code",
    "id": "tODDBpncclyi"
   },
   "outputs": [],
   "source": [
    "# Read Original INCA data\"\n",
    "df_INCA=pd.read_csv('INCA.csv').drop(['Unnamed: 0'],axis=1)"
   ]
  },
  {
   "cell_type": "code",
   "execution_count": 0,
   "metadata": {
    "colab": {},
    "colab_type": "code",
    "id": "1wZJ48WRJ3SO"
   },
   "outputs": [],
   "source": [
    "# Drop items which have 0 costs or prices\n",
    "df_INCA=df_INCA.loc[(df_INCA['Quoted Cost (FT)']!=0)&(df_INCA['Quoted Price (FT)']!=0)].reset_index(drop=True)"
   ]
  },
  {
   "cell_type": "code",
   "execution_count": 0,
   "metadata": {
    "colab": {},
    "colab_type": "code",
    "id": "Dp-8JJL4Abh5"
   },
   "outputs": [],
   "source": [
    "# Drop items which have never been sold\n",
    "df_drop=df_INCA.groupby(by='Item Number').agg({\"accept\": \"sum\"}).reset_index()\n",
    "df_INCA=df_INCA.loc[df_INCA['Item Number'].isin(list(df_drop.loc[df_drop['accept']>0]['Item Number']))]\n",
    "\n",
    "# Drop customers who have never bought anything\n",
    "df_cus=df_INCA.groupby(by='Customer Number').agg({'accept':'sum'}).reset_index()\n",
    "df_INCA=df_INCA.loc[df_INCA['Customer Number'].isin(list(df_cus.loc[df_cus['accept']>0]['Customer Number']))]\n",
    "\n",
    "# Drop end-user projects which have never been a deal\n",
    "df_end=df_INCA.groupby(by='End User Project').agg({'accept':'sum'}).reset_index()\n",
    "df_INCA=df_INCA.loc[df_INCA['End User Project'].isin(list(df_end.loc[df_end['accept']>0]['End User Project']))]"
   ]
  },
  {
   "cell_type": "code",
   "execution_count": 0,
   "metadata": {
    "colab": {},
    "colab_type": "code",
    "id": "fZGkDLFP0uns"
   },
   "outputs": [],
   "source": [
    "# Calculate relative price group by product code\n",
    "df_meanproduct=df_INCA.groupby(by='Product Code').agg({'Quore Price (Modifed)':'mean'})\n",
    "df_INCA=pd.merge(df_INCA,df_meanproduct,how='left',on='Product Code')\n",
    "df_INCA['relative_price']=df_INCA['Quore Price (Modifed)_x']-df_INCA['Quore Price (Modifed)_y']"
   ]
  },
  {
   "cell_type": "code",
   "execution_count": 0,
   "metadata": {
    "colab": {
     "base_uri": "https://localhost:8080/",
     "height": 428
    },
    "colab_type": "code",
    "id": "2wBky8Cnyc1i",
    "outputId": "23430d92-946b-4baf-efd3-6e421eecf993"
   },
   "outputs": [
    {
     "data": {
      "text/html": [
       "<div>\n",
       "<style scoped>\n",
       "    .dataframe tbody tr th:only-of-type {\n",
       "        vertical-align: middle;\n",
       "    }\n",
       "\n",
       "    .dataframe tbody tr th {\n",
       "        vertical-align: top;\n",
       "    }\n",
       "\n",
       "    .dataframe thead th {\n",
       "        text-align: right;\n",
       "    }\n",
       "</style>\n",
       "<table border=\"1\" class=\"dataframe\">\n",
       "  <thead>\n",
       "    <tr style=\"text-align: right;\">\n",
       "      <th></th>\n",
       "      <th>Unnamed: 0.1</th>\n",
       "      <th>Item Number</th>\n",
       "      <th>mean_cost</th>\n",
       "      <th>mean_price</th>\n",
       "      <th>Quote Number</th>\n",
       "      <th>Product Code</th>\n",
       "      <th>Sales Incentive Recap Class 2</th>\n",
       "      <th>Verticalmarket</th>\n",
       "      <th>Divisionregion</th>\n",
       "      <th>Customer Number</th>\n",
       "      <th>Customer Name</th>\n",
       "      <th>End User Project</th>\n",
       "      <th>Estimator</th>\n",
       "      <th>Completed Date</th>\n",
       "      <th>Quoted Price (FT)</th>\n",
       "      <th>Quoted Cost (FT)</th>\n",
       "      <th>Quoted Quantity</th>\n",
       "      <th>accept</th>\n",
       "      <th>Copperprice</th>\n",
       "      <th>Copperprice_t-1</th>\n",
       "      <th>Copperprice_t-2</th>\n",
       "      <th>Copperprice_t-3</th>\n",
       "      <th>Copperprice_t-4</th>\n",
       "      <th>Copperprice_t-5</th>\n",
       "      <th>Copperweight</th>\n",
       "      <th>Quore Price (Modifed)_x</th>\n",
       "      <th>Quote Cost (Modified)</th>\n",
       "      <th>margin</th>\n",
       "      <th>recapmargin</th>\n",
       "      <th>Quore Price (Modifed)_y</th>\n",
       "      <th>relative_price</th>\n",
       "    </tr>\n",
       "  </thead>\n",
       "  <tbody>\n",
       "    <tr>\n",
       "      <th>0</th>\n",
       "      <td>1</td>\n",
       "      <td>8525 0101000</td>\n",
       "      <td>0.014300</td>\n",
       "      <td>0.111500</td>\n",
       "      <td>1280228</td>\n",
       "      <td>8525</td>\n",
       "      <td>Lead Wire Plastic Low Temp</td>\n",
       "      <td>ES - Retail</td>\n",
       "      <td>IND - Gulf Region</td>\n",
       "      <td>2872</td>\n",
       "      <td>ANIXTER ANAHEIM 051        122</td>\n",
       "      <td>CABLE CONNECTIONS</td>\n",
       "      <td>traci.collings@belden.com</td>\n",
       "      <td>2019-02-05</td>\n",
       "      <td>0.110</td>\n",
       "      <td>0.0143</td>\n",
       "      <td>32</td>\n",
       "      <td>1</td>\n",
       "      <td>2.8170</td>\n",
       "      <td>2.7950</td>\n",
       "      <td>2.7850</td>\n",
       "      <td>2.7850</td>\n",
       "      <td>2.77500</td>\n",
       "      <td>2.78900</td>\n",
       "      <td>0.001370</td>\n",
       "      <td>0.110</td>\n",
       "      <td>0.014300</td>\n",
       "      <td>6.692308</td>\n",
       "      <td>2.107747</td>\n",
       "      <td>0.111500</td>\n",
       "      <td>-0.001500</td>\n",
       "    </tr>\n",
       "    <tr>\n",
       "      <th>1</th>\n",
       "      <td>2</td>\n",
       "      <td>8456 060100</td>\n",
       "      <td>0.013000</td>\n",
       "      <td>0.098429</td>\n",
       "      <td>1312799</td>\n",
       "      <td>8456</td>\n",
       "      <td>Classics Low Temp</td>\n",
       "      <td>ES - Data Centers</td>\n",
       "      <td>IND - East Region</td>\n",
       "      <td>19136</td>\n",
       "      <td>HOUSTON W &amp; C HOUSTON</td>\n",
       "      <td>Meridian Data Center</td>\n",
       "      <td>kali.culbertson@belden.com</td>\n",
       "      <td>2019-08-05</td>\n",
       "      <td>0.100</td>\n",
       "      <td>0.0130</td>\n",
       "      <td>2</td>\n",
       "      <td>0</td>\n",
       "      <td>2.5370</td>\n",
       "      <td>2.5510</td>\n",
       "      <td>2.5510</td>\n",
       "      <td>2.5650</td>\n",
       "      <td>2.66000</td>\n",
       "      <td>2.65800</td>\n",
       "      <td>0.019700</td>\n",
       "      <td>0.100</td>\n",
       "      <td>0.013000</td>\n",
       "      <td>6.692308</td>\n",
       "      <td>3.401935</td>\n",
       "      <td>0.577603</td>\n",
       "      <td>-0.477603</td>\n",
       "    </tr>\n",
       "    <tr>\n",
       "      <th>2</th>\n",
       "      <td>64</td>\n",
       "      <td>8325 060500</td>\n",
       "      <td>0.520800</td>\n",
       "      <td>0.004000</td>\n",
       "      <td>1320484</td>\n",
       "      <td>8325</td>\n",
       "      <td>Classics Low Temp</td>\n",
       "      <td>ES - Retail</td>\n",
       "      <td>IND - West Region</td>\n",
       "      <td>114552</td>\n",
       "      <td>WIREXPRESS-EK GR VIL 351/848</td>\n",
       "      <td>Simplyvast</td>\n",
       "      <td>Tanner.steele@belden.com</td>\n",
       "      <td>2019-09-26</td>\n",
       "      <td>0.004</td>\n",
       "      <td>0.5208</td>\n",
       "      <td>1</td>\n",
       "      <td>1</td>\n",
       "      <td>2.5600</td>\n",
       "      <td>2.5950</td>\n",
       "      <td>2.5895</td>\n",
       "      <td>2.5945</td>\n",
       "      <td>2.59225</td>\n",
       "      <td>2.59225</td>\n",
       "      <td>0.120880</td>\n",
       "      <td>0.004</td>\n",
       "      <td>0.000521</td>\n",
       "      <td>6.680492</td>\n",
       "      <td>3.401935</td>\n",
       "      <td>0.005500</td>\n",
       "      <td>-0.001500</td>\n",
       "    </tr>\n",
       "    <tr>\n",
       "      <th>3</th>\n",
       "      <td>80</td>\n",
       "      <td>8816</td>\n",
       "      <td>0.017891</td>\n",
       "      <td>0.095283</td>\n",
       "      <td>1311971</td>\n",
       "      <td>8816</td>\n",
       "      <td>Lead Wire Plastic Low Temp</td>\n",
       "      <td>ES - Government</td>\n",
       "      <td>IND - East Region</td>\n",
       "      <td>144945</td>\n",
       "      <td>ACCU TECH FEDERAL 520</td>\n",
       "      <td>Lockheed Martin BPA</td>\n",
       "      <td>Kate.robinson@belden.com</td>\n",
       "      <td>2019-07-30</td>\n",
       "      <td>0.139</td>\n",
       "      <td>0.0181</td>\n",
       "      <td>2</td>\n",
       "      <td>0</td>\n",
       "      <td>2.6705</td>\n",
       "      <td>2.7095</td>\n",
       "      <td>2.6930</td>\n",
       "      <td>2.6930</td>\n",
       "      <td>2.67650</td>\n",
       "      <td>2.69550</td>\n",
       "      <td>0.032343</td>\n",
       "      <td>0.139</td>\n",
       "      <td>0.018100</td>\n",
       "      <td>6.679558</td>\n",
       "      <td>2.107747</td>\n",
       "      <td>0.093932</td>\n",
       "      <td>0.045068</td>\n",
       "    </tr>\n",
       "    <tr>\n",
       "      <th>4</th>\n",
       "      <td>81</td>\n",
       "      <td>8816</td>\n",
       "      <td>0.017891</td>\n",
       "      <td>0.095283</td>\n",
       "      <td>1312142</td>\n",
       "      <td>8816</td>\n",
       "      <td>Lead Wire Plastic Low Temp</td>\n",
       "      <td>ES - Government</td>\n",
       "      <td>IND - West Region</td>\n",
       "      <td>34024</td>\n",
       "      <td>ALLIED ELECTRONICS</td>\n",
       "      <td>Lockheed Martin BPA</td>\n",
       "      <td>Tanner.steele@belden.com</td>\n",
       "      <td>2019-07-30</td>\n",
       "      <td>0.139</td>\n",
       "      <td>0.0181</td>\n",
       "      <td>2</td>\n",
       "      <td>0</td>\n",
       "      <td>2.6705</td>\n",
       "      <td>2.7095</td>\n",
       "      <td>2.6930</td>\n",
       "      <td>2.6930</td>\n",
       "      <td>2.67650</td>\n",
       "      <td>2.69550</td>\n",
       "      <td>0.032343</td>\n",
       "      <td>0.139</td>\n",
       "      <td>0.018100</td>\n",
       "      <td>6.679558</td>\n",
       "      <td>2.107747</td>\n",
       "      <td>0.093932</td>\n",
       "      <td>0.045068</td>\n",
       "    </tr>\n",
       "  </tbody>\n",
       "</table>\n",
       "</div>"
      ],
      "text/plain": [
       "   Unnamed: 0.1   Item Number  ...  Quore Price (Modifed)_y  relative_price\n",
       "0             1  8525 0101000  ...                 0.111500       -0.001500\n",
       "1             2   8456 060100  ...                 0.577603       -0.477603\n",
       "2            64   8325 060500  ...                 0.005500       -0.001500\n",
       "3            80          8816  ...                 0.093932        0.045068\n",
       "4            81          8816  ...                 0.093932        0.045068\n",
       "\n",
       "[5 rows x 31 columns]"
      ]
     },
     "execution_count": 22,
     "metadata": {
      "tags": []
     },
     "output_type": "execute_result"
    }
   ],
   "source": [
    "# See the finished general table\n",
    "df_INCA.head(5)"
   ]
  },
  {
   "cell_type": "code",
   "execution_count": 0,
   "metadata": {
    "colab": {},
    "colab_type": "code",
    "id": "SI5fa0eWbQt8"
   },
   "outputs": [],
   "source": [
    "# Generate input table\n",
    "result=pd.concat([df_INCA['Item Number'],df_INCA['Product Code'],df_INCA['Completed Date'],df_INCA['Quore Price (Modifed)_x'],df_INCA['Quore Price (Modifed)_y'],df_INCA['accept'],df_INCA['Customer Number'],df_INCA['relative_price'],df_INCA['Quote Cost (Modified)'],pd.get_dummies(df_INCA['Sales Incentive Recap Class 2'])\\\n",
    "   ,pd.get_dummies(df_INCA['Divisionregion']),pd.get_dummies(df_INCA['End User Project']),pd.get_dummies(df_INCA['Item Number']),df_INCA['Quoted Quantity']],axis=1).dropna()"
   ]
  },
  {
   "cell_type": "code",
   "execution_count": 0,
   "metadata": {
    "colab": {
     "base_uri": "https://localhost:8080/",
     "height": 406
    },
    "colab_type": "code",
    "id": "Ze_l3kZseoHk",
    "outputId": "014f6739-d384-4486-dc25-0fbf083dc0fa"
   },
   "outputs": [
    {
     "data": {
      "text/html": [
       "<div>\n",
       "<style scoped>\n",
       "    .dataframe tbody tr th:only-of-type {\n",
       "        vertical-align: middle;\n",
       "    }\n",
       "\n",
       "    .dataframe tbody tr th {\n",
       "        vertical-align: top;\n",
       "    }\n",
       "\n",
       "    .dataframe thead th {\n",
       "        text-align: right;\n",
       "    }\n",
       "</style>\n",
       "<table border=\"1\" class=\"dataframe\">\n",
       "  <thead>\n",
       "    <tr style=\"text-align: right;\">\n",
       "      <th></th>\n",
       "      <th>Item Number</th>\n",
       "      <th>Product Code</th>\n",
       "      <th>Completed Date</th>\n",
       "      <th>Quore Price (Modifed)_x</th>\n",
       "      <th>Quore Price (Modifed)_y</th>\n",
       "      <th>accept</th>\n",
       "      <th>Customer Number</th>\n",
       "      <th>relative_price</th>\n",
       "      <th>Quote Cost (Modified)</th>\n",
       "      <th>Basics VFD Cu Tape</th>\n",
       "      <th>Blue Hose</th>\n",
       "      <th>Classics High Temp</th>\n",
       "      <th>Classics Low Temp</th>\n",
       "      <th>ControlNet</th>\n",
       "      <th>DeviceNet</th>\n",
       "      <th>Foundation FieldBus</th>\n",
       "      <th>Industrial Ethernet Cable Cat 5e</th>\n",
       "      <th>Industrial Ethernet Cable Cat 6</th>\n",
       "      <th>Industrial Ethernet Connectivity</th>\n",
       "      <th>Lead Wire Plastic High Temp</th>\n",
       "      <th>Lead Wire Plastic Low Temp</th>\n",
       "      <th>Lead Wire Rubber</th>\n",
       "      <th>MIPP</th>\n",
       "      <th>MachFlex Moderate</th>\n",
       "      <th>MachFlex TC</th>\n",
       "      <th>Misc Networking</th>\n",
       "      <th>PROFIBUS</th>\n",
       "      <th>RS-485</th>\n",
       "      <th>Security Coax</th>\n",
       "      <th>Security MultiConductor</th>\n",
       "      <th>SpaceMaker</th>\n",
       "      <th>VFD Cu Tape</th>\n",
       "      <th>VFD Foil+Braid</th>\n",
       "      <th>IND - Central Region</th>\n",
       "      <th>IND - East Region</th>\n",
       "      <th>IND - Gulf Region</th>\n",
       "      <th>IND - West Region</th>\n",
       "      <th>1 Manhattan West</th>\n",
       "      <th>112 Shawmut Ave</th>\n",
       "      <th>116 John Street</th>\n",
       "      <th>...</th>\n",
       "      <th>AG57870 0101000</th>\n",
       "      <th>AG59796 0041000</th>\n",
       "      <th>E100601 010S1</th>\n",
       "      <th>E100623 000S1</th>\n",
       "      <th>E505001 010S1</th>\n",
       "      <th>E505002 010S1</th>\n",
       "      <th>E505005 010S1</th>\n",
       "      <th>E605001 010S1</th>\n",
       "      <th>E605002 010S1</th>\n",
       "      <th>E605004 010S1</th>\n",
       "      <th>E605009 010S1</th>\n",
       "      <th>E605013 010S1</th>\n",
       "      <th>E6050M3 010S1</th>\n",
       "      <th>E6051M5 010S1</th>\n",
       "      <th>EY60196 010005</th>\n",
       "      <th>EY6F201 006021</th>\n",
       "      <th>EY6F201 006053</th>\n",
       "      <th>EY6F201 006058</th>\n",
       "      <th>EY6F201 006073</th>\n",
       "      <th>EY6F201 010039</th>\n",
       "      <th>EY6F201 010048</th>\n",
       "      <th>EY6F201 010058</th>\n",
       "      <th>EY6F201 010063</th>\n",
       "      <th>EY6F201 010068</th>\n",
       "      <th>R301601 000S1</th>\n",
       "      <th>R301602 000S1</th>\n",
       "      <th>R301603 000S1</th>\n",
       "      <th>R301604 000S1</th>\n",
       "      <th>RV5IJ2SME-B24</th>\n",
       "      <th>RV6IJ2UBK-B24</th>\n",
       "      <th>RVAIP2SME-S1</th>\n",
       "      <th>RVAIP2UBK-B24</th>\n",
       "      <th>RVAIP2UBK-S1</th>\n",
       "      <th>RVUIO0UEW-B50</th>\n",
       "      <th>Y66004 0101000</th>\n",
       "      <th>Y66313 0101000</th>\n",
       "      <th>Y66341 0081000</th>\n",
       "      <th>Y66382 06010000</th>\n",
       "      <th>YM55426 0061000</th>\n",
       "      <th>Quoted Quantity</th>\n",
       "    </tr>\n",
       "  </thead>\n",
       "  <tbody>\n",
       "    <tr>\n",
       "      <th>0</th>\n",
       "      <td>8525 0101000</td>\n",
       "      <td>8525</td>\n",
       "      <td>2019-02-05</td>\n",
       "      <td>0.110</td>\n",
       "      <td>0.111500</td>\n",
       "      <td>1</td>\n",
       "      <td>2872</td>\n",
       "      <td>-0.001500</td>\n",
       "      <td>0.014300</td>\n",
       "      <td>0</td>\n",
       "      <td>0</td>\n",
       "      <td>0</td>\n",
       "      <td>0</td>\n",
       "      <td>0</td>\n",
       "      <td>0</td>\n",
       "      <td>0</td>\n",
       "      <td>0</td>\n",
       "      <td>0</td>\n",
       "      <td>0</td>\n",
       "      <td>0</td>\n",
       "      <td>1</td>\n",
       "      <td>0</td>\n",
       "      <td>0</td>\n",
       "      <td>0</td>\n",
       "      <td>0</td>\n",
       "      <td>0</td>\n",
       "      <td>0</td>\n",
       "      <td>0</td>\n",
       "      <td>0</td>\n",
       "      <td>0</td>\n",
       "      <td>0</td>\n",
       "      <td>0</td>\n",
       "      <td>0</td>\n",
       "      <td>0</td>\n",
       "      <td>0</td>\n",
       "      <td>1</td>\n",
       "      <td>0</td>\n",
       "      <td>0</td>\n",
       "      <td>0</td>\n",
       "      <td>0</td>\n",
       "      <td>...</td>\n",
       "      <td>0</td>\n",
       "      <td>0</td>\n",
       "      <td>0</td>\n",
       "      <td>0</td>\n",
       "      <td>0</td>\n",
       "      <td>0</td>\n",
       "      <td>0</td>\n",
       "      <td>0</td>\n",
       "      <td>0</td>\n",
       "      <td>0</td>\n",
       "      <td>0</td>\n",
       "      <td>0</td>\n",
       "      <td>0</td>\n",
       "      <td>0</td>\n",
       "      <td>0</td>\n",
       "      <td>0</td>\n",
       "      <td>0</td>\n",
       "      <td>0</td>\n",
       "      <td>0</td>\n",
       "      <td>0</td>\n",
       "      <td>0</td>\n",
       "      <td>0</td>\n",
       "      <td>0</td>\n",
       "      <td>0</td>\n",
       "      <td>0</td>\n",
       "      <td>0</td>\n",
       "      <td>0</td>\n",
       "      <td>0</td>\n",
       "      <td>0</td>\n",
       "      <td>0</td>\n",
       "      <td>0</td>\n",
       "      <td>0</td>\n",
       "      <td>0</td>\n",
       "      <td>0</td>\n",
       "      <td>0</td>\n",
       "      <td>0</td>\n",
       "      <td>0</td>\n",
       "      <td>0</td>\n",
       "      <td>0</td>\n",
       "      <td>32</td>\n",
       "    </tr>\n",
       "    <tr>\n",
       "      <th>1</th>\n",
       "      <td>8456 060100</td>\n",
       "      <td>8456</td>\n",
       "      <td>2019-08-05</td>\n",
       "      <td>0.100</td>\n",
       "      <td>0.577603</td>\n",
       "      <td>0</td>\n",
       "      <td>19136</td>\n",
       "      <td>-0.477603</td>\n",
       "      <td>0.013000</td>\n",
       "      <td>0</td>\n",
       "      <td>0</td>\n",
       "      <td>0</td>\n",
       "      <td>1</td>\n",
       "      <td>0</td>\n",
       "      <td>0</td>\n",
       "      <td>0</td>\n",
       "      <td>0</td>\n",
       "      <td>0</td>\n",
       "      <td>0</td>\n",
       "      <td>0</td>\n",
       "      <td>0</td>\n",
       "      <td>0</td>\n",
       "      <td>0</td>\n",
       "      <td>0</td>\n",
       "      <td>0</td>\n",
       "      <td>0</td>\n",
       "      <td>0</td>\n",
       "      <td>0</td>\n",
       "      <td>0</td>\n",
       "      <td>0</td>\n",
       "      <td>0</td>\n",
       "      <td>0</td>\n",
       "      <td>0</td>\n",
       "      <td>0</td>\n",
       "      <td>1</td>\n",
       "      <td>0</td>\n",
       "      <td>0</td>\n",
       "      <td>0</td>\n",
       "      <td>0</td>\n",
       "      <td>0</td>\n",
       "      <td>...</td>\n",
       "      <td>0</td>\n",
       "      <td>0</td>\n",
       "      <td>0</td>\n",
       "      <td>0</td>\n",
       "      <td>0</td>\n",
       "      <td>0</td>\n",
       "      <td>0</td>\n",
       "      <td>0</td>\n",
       "      <td>0</td>\n",
       "      <td>0</td>\n",
       "      <td>0</td>\n",
       "      <td>0</td>\n",
       "      <td>0</td>\n",
       "      <td>0</td>\n",
       "      <td>0</td>\n",
       "      <td>0</td>\n",
       "      <td>0</td>\n",
       "      <td>0</td>\n",
       "      <td>0</td>\n",
       "      <td>0</td>\n",
       "      <td>0</td>\n",
       "      <td>0</td>\n",
       "      <td>0</td>\n",
       "      <td>0</td>\n",
       "      <td>0</td>\n",
       "      <td>0</td>\n",
       "      <td>0</td>\n",
       "      <td>0</td>\n",
       "      <td>0</td>\n",
       "      <td>0</td>\n",
       "      <td>0</td>\n",
       "      <td>0</td>\n",
       "      <td>0</td>\n",
       "      <td>0</td>\n",
       "      <td>0</td>\n",
       "      <td>0</td>\n",
       "      <td>0</td>\n",
       "      <td>0</td>\n",
       "      <td>0</td>\n",
       "      <td>2</td>\n",
       "    </tr>\n",
       "    <tr>\n",
       "      <th>2</th>\n",
       "      <td>8325 060500</td>\n",
       "      <td>8325</td>\n",
       "      <td>2019-09-26</td>\n",
       "      <td>0.004</td>\n",
       "      <td>0.005500</td>\n",
       "      <td>1</td>\n",
       "      <td>114552</td>\n",
       "      <td>-0.001500</td>\n",
       "      <td>0.000521</td>\n",
       "      <td>0</td>\n",
       "      <td>0</td>\n",
       "      <td>0</td>\n",
       "      <td>1</td>\n",
       "      <td>0</td>\n",
       "      <td>0</td>\n",
       "      <td>0</td>\n",
       "      <td>0</td>\n",
       "      <td>0</td>\n",
       "      <td>0</td>\n",
       "      <td>0</td>\n",
       "      <td>0</td>\n",
       "      <td>0</td>\n",
       "      <td>0</td>\n",
       "      <td>0</td>\n",
       "      <td>0</td>\n",
       "      <td>0</td>\n",
       "      <td>0</td>\n",
       "      <td>0</td>\n",
       "      <td>0</td>\n",
       "      <td>0</td>\n",
       "      <td>0</td>\n",
       "      <td>0</td>\n",
       "      <td>0</td>\n",
       "      <td>0</td>\n",
       "      <td>0</td>\n",
       "      <td>0</td>\n",
       "      <td>1</td>\n",
       "      <td>0</td>\n",
       "      <td>0</td>\n",
       "      <td>0</td>\n",
       "      <td>...</td>\n",
       "      <td>0</td>\n",
       "      <td>0</td>\n",
       "      <td>0</td>\n",
       "      <td>0</td>\n",
       "      <td>0</td>\n",
       "      <td>0</td>\n",
       "      <td>0</td>\n",
       "      <td>0</td>\n",
       "      <td>0</td>\n",
       "      <td>0</td>\n",
       "      <td>0</td>\n",
       "      <td>0</td>\n",
       "      <td>0</td>\n",
       "      <td>0</td>\n",
       "      <td>0</td>\n",
       "      <td>0</td>\n",
       "      <td>0</td>\n",
       "      <td>0</td>\n",
       "      <td>0</td>\n",
       "      <td>0</td>\n",
       "      <td>0</td>\n",
       "      <td>0</td>\n",
       "      <td>0</td>\n",
       "      <td>0</td>\n",
       "      <td>0</td>\n",
       "      <td>0</td>\n",
       "      <td>0</td>\n",
       "      <td>0</td>\n",
       "      <td>0</td>\n",
       "      <td>0</td>\n",
       "      <td>0</td>\n",
       "      <td>0</td>\n",
       "      <td>0</td>\n",
       "      <td>0</td>\n",
       "      <td>0</td>\n",
       "      <td>0</td>\n",
       "      <td>0</td>\n",
       "      <td>0</td>\n",
       "      <td>0</td>\n",
       "      <td>1</td>\n",
       "    </tr>\n",
       "    <tr>\n",
       "      <th>3</th>\n",
       "      <td>8816</td>\n",
       "      <td>8816</td>\n",
       "      <td>2019-07-30</td>\n",
       "      <td>0.139</td>\n",
       "      <td>0.093932</td>\n",
       "      <td>0</td>\n",
       "      <td>144945</td>\n",
       "      <td>0.045068</td>\n",
       "      <td>0.018100</td>\n",
       "      <td>0</td>\n",
       "      <td>0</td>\n",
       "      <td>0</td>\n",
       "      <td>0</td>\n",
       "      <td>0</td>\n",
       "      <td>0</td>\n",
       "      <td>0</td>\n",
       "      <td>0</td>\n",
       "      <td>0</td>\n",
       "      <td>0</td>\n",
       "      <td>0</td>\n",
       "      <td>1</td>\n",
       "      <td>0</td>\n",
       "      <td>0</td>\n",
       "      <td>0</td>\n",
       "      <td>0</td>\n",
       "      <td>0</td>\n",
       "      <td>0</td>\n",
       "      <td>0</td>\n",
       "      <td>0</td>\n",
       "      <td>0</td>\n",
       "      <td>0</td>\n",
       "      <td>0</td>\n",
       "      <td>0</td>\n",
       "      <td>0</td>\n",
       "      <td>1</td>\n",
       "      <td>0</td>\n",
       "      <td>0</td>\n",
       "      <td>0</td>\n",
       "      <td>0</td>\n",
       "      <td>0</td>\n",
       "      <td>...</td>\n",
       "      <td>0</td>\n",
       "      <td>0</td>\n",
       "      <td>0</td>\n",
       "      <td>0</td>\n",
       "      <td>0</td>\n",
       "      <td>0</td>\n",
       "      <td>0</td>\n",
       "      <td>0</td>\n",
       "      <td>0</td>\n",
       "      <td>0</td>\n",
       "      <td>0</td>\n",
       "      <td>0</td>\n",
       "      <td>0</td>\n",
       "      <td>0</td>\n",
       "      <td>0</td>\n",
       "      <td>0</td>\n",
       "      <td>0</td>\n",
       "      <td>0</td>\n",
       "      <td>0</td>\n",
       "      <td>0</td>\n",
       "      <td>0</td>\n",
       "      <td>0</td>\n",
       "      <td>0</td>\n",
       "      <td>0</td>\n",
       "      <td>0</td>\n",
       "      <td>0</td>\n",
       "      <td>0</td>\n",
       "      <td>0</td>\n",
       "      <td>0</td>\n",
       "      <td>0</td>\n",
       "      <td>0</td>\n",
       "      <td>0</td>\n",
       "      <td>0</td>\n",
       "      <td>0</td>\n",
       "      <td>0</td>\n",
       "      <td>0</td>\n",
       "      <td>0</td>\n",
       "      <td>0</td>\n",
       "      <td>0</td>\n",
       "      <td>2</td>\n",
       "    </tr>\n",
       "    <tr>\n",
       "      <th>4</th>\n",
       "      <td>8816</td>\n",
       "      <td>8816</td>\n",
       "      <td>2019-07-30</td>\n",
       "      <td>0.139</td>\n",
       "      <td>0.093932</td>\n",
       "      <td>0</td>\n",
       "      <td>34024</td>\n",
       "      <td>0.045068</td>\n",
       "      <td>0.018100</td>\n",
       "      <td>0</td>\n",
       "      <td>0</td>\n",
       "      <td>0</td>\n",
       "      <td>0</td>\n",
       "      <td>0</td>\n",
       "      <td>0</td>\n",
       "      <td>0</td>\n",
       "      <td>0</td>\n",
       "      <td>0</td>\n",
       "      <td>0</td>\n",
       "      <td>0</td>\n",
       "      <td>1</td>\n",
       "      <td>0</td>\n",
       "      <td>0</td>\n",
       "      <td>0</td>\n",
       "      <td>0</td>\n",
       "      <td>0</td>\n",
       "      <td>0</td>\n",
       "      <td>0</td>\n",
       "      <td>0</td>\n",
       "      <td>0</td>\n",
       "      <td>0</td>\n",
       "      <td>0</td>\n",
       "      <td>0</td>\n",
       "      <td>0</td>\n",
       "      <td>0</td>\n",
       "      <td>0</td>\n",
       "      <td>1</td>\n",
       "      <td>0</td>\n",
       "      <td>0</td>\n",
       "      <td>0</td>\n",
       "      <td>...</td>\n",
       "      <td>0</td>\n",
       "      <td>0</td>\n",
       "      <td>0</td>\n",
       "      <td>0</td>\n",
       "      <td>0</td>\n",
       "      <td>0</td>\n",
       "      <td>0</td>\n",
       "      <td>0</td>\n",
       "      <td>0</td>\n",
       "      <td>0</td>\n",
       "      <td>0</td>\n",
       "      <td>0</td>\n",
       "      <td>0</td>\n",
       "      <td>0</td>\n",
       "      <td>0</td>\n",
       "      <td>0</td>\n",
       "      <td>0</td>\n",
       "      <td>0</td>\n",
       "      <td>0</td>\n",
       "      <td>0</td>\n",
       "      <td>0</td>\n",
       "      <td>0</td>\n",
       "      <td>0</td>\n",
       "      <td>0</td>\n",
       "      <td>0</td>\n",
       "      <td>0</td>\n",
       "      <td>0</td>\n",
       "      <td>0</td>\n",
       "      <td>0</td>\n",
       "      <td>0</td>\n",
       "      <td>0</td>\n",
       "      <td>0</td>\n",
       "      <td>0</td>\n",
       "      <td>0</td>\n",
       "      <td>0</td>\n",
       "      <td>0</td>\n",
       "      <td>0</td>\n",
       "      <td>0</td>\n",
       "      <td>0</td>\n",
       "      <td>2</td>\n",
       "    </tr>\n",
       "  </tbody>\n",
       "</table>\n",
       "<p>5 rows × 4171 columns</p>\n",
       "</div>"
      ],
      "text/plain": [
       "    Item Number Product Code  ... YM55426 0061000  Quoted Quantity\n",
       "0  8525 0101000         8525  ...               0               32\n",
       "1   8456 060100         8456  ...               0                2\n",
       "2   8325 060500         8325  ...               0                1\n",
       "3          8816         8816  ...               0                2\n",
       "4          8816         8816  ...               0                2\n",
       "\n",
       "[5 rows x 4171 columns]"
      ]
     },
     "execution_count": 24,
     "metadata": {
      "tags": []
     },
     "output_type": "execute_result"
    }
   ],
   "source": [
    "# See the input table\n",
    "result.head(5)"
   ]
  },
  {
   "cell_type": "code",
   "execution_count": 0,
   "metadata": {
    "colab": {},
    "colab_type": "code",
    "id": "4NXJYyfkgjKm"
   },
   "outputs": [],
   "source": [
    "# Format date information to prepare for validation\n",
    "result['Completed Date']=pd.to_datetime(result['Completed Date'])"
   ]
  },
  {
   "cell_type": "markdown",
   "metadata": {
    "colab_type": "text",
    "id": "nLo-3ek_gI10"
   },
   "source": [
    "**SVM Modeling**"
   ]
  },
  {
   "cell_type": "code",
   "execution_count": 0,
   "metadata": {
    "colab": {},
    "colab_type": "code",
    "id": "ovDeuBd3BEIG"
   },
   "outputs": [],
   "source": [
    "# Split training and testing data (8:2)\n",
    "train_set, test_set = train_test_split(result, test_size = 0.2, random_state = 1)\n",
    "\n",
    "train_set.reset_index(drop = True, inplace = True)\n",
    "test_set.reset_index(drop = True, inplace = True)\n",
    "\n",
    "x_training = train_set.copy().iloc[:,6:]\n",
    "x_testing=test_set.copy().iloc[:,6:]\n",
    "y_training=train_set.copy().iloc[:,5]\n",
    "y_testing=test_set.copy().iloc[:,5]"
   ]
  },
  {
   "cell_type": "code",
   "execution_count": 0,
   "metadata": {
    "colab": {
     "base_uri": "https://localhost:8080/",
     "height": 85
    },
    "colab_type": "code",
    "id": "4KIgbK5JCw0J",
    "outputId": "ab661234-f016-473e-8d46-e69b88913d43"
   },
   "outputs": [
    {
     "data": {
      "text/plain": [
       "SVC(C=1.0, cache_size=200, class_weight=None, coef0=0.0,\n",
       "    decision_function_shape='ovr', degree=3, gamma='auto_deprecated',\n",
       "    kernel='linear', max_iter=-1, probability=True, random_state=None,\n",
       "    shrinking=True, tol=0.001, verbose=False)"
      ]
     },
     "execution_count": 11,
     "metadata": {
      "tags": []
     },
     "output_type": "execute_result"
    }
   ],
   "source": [
    "# Fit the model (Usually take hours due to the size of the dataset)\n",
    "clf = svm.SVC(probability=True,kernel='linear'，C=1.0, cache_size=200)\n",
    "clf.fit(x_training, y_training)"
   ]
  },
  {
   "cell_type": "code",
   "execution_count": 0,
   "metadata": {
    "colab": {
     "base_uri": "https://localhost:8080/",
     "height": 34
    },
    "colab_type": "code",
    "id": "9X1XT3qlfG3X",
    "outputId": "4f489c87-5646-4e1c-bdcc-940316fbd6cf"
   },
   "outputs": [
    {
     "data": {
      "text/plain": [
       "['/content/drive/My Drive/Belden/Belden_SVM_Modified_Relative_price.pkl']"
      ]
     },
     "execution_count": 92,
     "metadata": {
      "tags": []
     },
     "output_type": "execute_result"
    }
   ],
   "source": [
    "# Save the model as a pickle in a file for future use\n",
    "joblib.dump(clf,'SVM_INCA_Model.pkl') "
   ]
  },
  {
   "cell_type": "code",
   "execution_count": 0,
   "metadata": {
    "colab": {},
    "colab_type": "code",
    "id": "raMW88I8fNVu"
   },
   "outputs": [],
   "source": [
    "# Load the model\n",
    "clf = joblib.load('SVM_INCA_Model.pkl')"
   ]
  },
  {
   "cell_type": "markdown",
   "metadata": {
    "colab_type": "text",
    "id": "u00FosipgNkX"
   },
   "source": [
    "**Grab useful information from the result**"
   ]
  },
  {
   "cell_type": "code",
   "execution_count": 0,
   "metadata": {
    "colab": {
     "base_uri": "https://localhost:8080/",
     "height": 204
    },
    "colab_type": "code",
    "id": "SF2HH_c2aGGn",
    "outputId": "ea35b501-6d33-4b70-f67c-c4aa039c004e"
   },
   "outputs": [
    {
     "data": {
      "text/html": [
       "<div>\n",
       "<style scoped>\n",
       "    .dataframe tbody tr th:only-of-type {\n",
       "        vertical-align: middle;\n",
       "    }\n",
       "\n",
       "    .dataframe tbody tr th {\n",
       "        vertical-align: top;\n",
       "    }\n",
       "\n",
       "    .dataframe thead th {\n",
       "        text-align: right;\n",
       "    }\n",
       "</style>\n",
       "<table border=\"1\" class=\"dataframe\">\n",
       "  <thead>\n",
       "    <tr style=\"text-align: right;\">\n",
       "      <th></th>\n",
       "      <th>Factor_name</th>\n",
       "      <th>Coefficient</th>\n",
       "    </tr>\n",
       "  </thead>\n",
       "  <tbody>\n",
       "    <tr>\n",
       "      <th>6</th>\n",
       "      <td>Classics Low Temp</td>\n",
       "      <td>1401.048820</td>\n",
       "    </tr>\n",
       "    <tr>\n",
       "      <th>28</th>\n",
       "      <td>IND - East Region</td>\n",
       "      <td>1170.334294</td>\n",
       "    </tr>\n",
       "    <tr>\n",
       "      <th>2</th>\n",
       "      <td>Quote Cost (Modified)</td>\n",
       "      <td>914.036178</td>\n",
       "    </tr>\n",
       "    <tr>\n",
       "      <th>30</th>\n",
       "      <td>IND - West Region</td>\n",
       "      <td>614.000000</td>\n",
       "    </tr>\n",
       "    <tr>\n",
       "      <th>1</th>\n",
       "      <td>relative_price</td>\n",
       "      <td>465.154143</td>\n",
       "    </tr>\n",
       "  </tbody>\n",
       "</table>\n",
       "</div>"
      ],
      "text/plain": [
       "              Factor_name  Coefficient\n",
       "6       Classics Low Temp  1401.048820\n",
       "28      IND - East Region  1170.334294\n",
       "2   Quote Cost (Modified)   914.036178\n",
       "30      IND - West Region   614.000000\n",
       "1          relative_price   465.154143"
      ]
     },
     "execution_count": 14,
     "metadata": {
      "tags": []
     },
     "output_type": "execute_result"
    }
   ],
   "source": [
    "# Output factor coefficient table, sort by descending coefficient\n",
    "df_coef=pd.DataFrame({'Factor_name':x_training.columns,'Coefficient':clf.coef_[0]}).sort_values(by='Coefficient',ascending=False)\n",
    "df_coef.head(5)"
   ]
  },
  {
   "cell_type": "code",
   "execution_count": 0,
   "metadata": {
    "colab": {
     "base_uri": "https://localhost:8080/",
     "height": 609
    },
    "colab_type": "code",
    "id": "FU9zs2wghYqg",
    "outputId": "cc23d287-4305-4573-8a3d-d6655c4255ab"
   },
   "outputs": [
    {
     "data": {
      "text/plain": [
       "<matplotlib.axes._subplots.AxesSubplot at 0x7f3ad11570f0>"
      ]
     },
     "execution_count": 16,
     "metadata": {
      "tags": []
     },
     "output_type": "execute_result"
    },
    {
     "data": {
      "image/png": "[encoded data removed]",
      "text/plain": [
       "<Figure size 1440x720 with 1 Axes>"
      ]
     },
     "metadata": {
      "needs_background": "light",
      "tags": []
     },
     "output_type": "display_data"
    }
   ],
   "source": [
    "# Output top 20 positive coefficient\n",
    "pd.Series(clf.coef_[0], index=x_training.columns).nlargest(20).plot(kind='barh',figsize=(20,10))"
   ]
  },
  {
   "cell_type": "code",
   "execution_count": 0,
   "metadata": {
    "colab": {
     "base_uri": "https://localhost:8080/",
     "height": 609
    },
    "colab_type": "code",
    "id": "2cHab1HYqyn2",
    "outputId": "6339e983-e21b-4712-8458-c0112fc5c24b"
   },
   "outputs": [
    {
     "data": {
      "text/plain": [
       "<matplotlib.axes._subplots.AxesSubplot at 0x7f3ad136b048>"
      ]
     },
     "execution_count": 17,
     "metadata": {
      "tags": []
     },
     "output_type": "execute_result"
    },
    {
     "data": {
      "image/png": "[encoded data removed]",
      "text/plain": [
       "<Figure size 1440x720 with 1 Axes>"
      ]
     },
     "metadata": {
      "needs_background": "light",
      "tags": []
     },
     "output_type": "display_data"
    }
   ],
   "source": [
    "# Output top 20 negative coefficient\n",
    "pd.Series(clf.coef_[0], index=x_training.columns).nsmallest(20).plot(kind='barh',figsize=(20,10))"
   ]
  },
  {
   "cell_type": "markdown",
   "metadata": {
    "colab_type": "text",
    "id": "e_vU5T_sga7Y"
   },
   "source": [
    "**Model Validation**"
   ]
  },
  {
   "cell_type": "code",
   "execution_count": 0,
   "metadata": {
    "colab": {},
    "colab_type": "code",
    "id": "sicph9ZTgfRK"
   },
   "outputs": [],
   "source": [
    "# Use records from Novemenber to December for validating\n",
    "df_test=result.loc[result['Completed Date']>='2019-11-1']\n",
    "x_testing=df_test.iloc[:,6:]\n",
    "y_testing=df_test.iloc[:,5]"
   ]
  },
  {
   "cell_type": "code",
   "execution_count": 0,
   "metadata": {
    "colab": {},
    "colab_type": "code",
    "id": "k7lFmvMngD6N"
   },
   "outputs": [],
   "source": [
    "# Predict test data\n",
    "y_probability=clf.predict_proba(x_testing)\n",
    "y_pred=clf.predict(x_testing)"
   ]
  },
  {
   "cell_type": "code",
   "execution_count": 0,
   "metadata": {
    "colab": {
     "base_uri": "https://localhost:8080/",
     "height": 204
    },
    "colab_type": "code",
    "id": "5yOQ3m5mhGhG",
    "outputId": "984ab77a-701c-4b9d-fe4a-6147a5e941b7"
   },
   "outputs": [
    {
     "data": {
      "text/html": [
       "<div>\n",
       "<style scoped>\n",
       "    .dataframe tbody tr th:only-of-type {\n",
       "        vertical-align: middle;\n",
       "    }\n",
       "\n",
       "    .dataframe tbody tr th {\n",
       "        vertical-align: top;\n",
       "    }\n",
       "\n",
       "    .dataframe thead th {\n",
       "        text-align: right;\n",
       "    }\n",
       "</style>\n",
       "<table border=\"1\" class=\"dataframe\">\n",
       "  <thead>\n",
       "    <tr style=\"text-align: right;\">\n",
       "      <th></th>\n",
       "      <th>Actual</th>\n",
       "      <th>Predicted</th>\n",
       "      <th>1_probability</th>\n",
       "      <th>price</th>\n",
       "      <th>cost</th>\n",
       "      <th>quantity</th>\n",
       "      <th>error</th>\n",
       "      <th>profit</th>\n",
       "      <th>expected_profit</th>\n",
       "      <th>Actual_profit</th>\n",
       "      <th>Predicted_profit</th>\n",
       "    </tr>\n",
       "  </thead>\n",
       "  <tbody>\n",
       "    <tr>\n",
       "      <th>7</th>\n",
       "      <td>0</td>\n",
       "      <td>0</td>\n",
       "      <td>0.168992</td>\n",
       "      <td>0.132</td>\n",
       "      <td>0.0172</td>\n",
       "      <td>50</td>\n",
       "      <td>0</td>\n",
       "      <td>5.7400</td>\n",
       "      <td>0.970012</td>\n",
       "      <td>0.0</td>\n",
       "      <td>0.0</td>\n",
       "    </tr>\n",
       "    <tr>\n",
       "      <th>10</th>\n",
       "      <td>0</td>\n",
       "      <td>0</td>\n",
       "      <td>0.168992</td>\n",
       "      <td>0.132</td>\n",
       "      <td>0.0172</td>\n",
       "      <td>50</td>\n",
       "      <td>0</td>\n",
       "      <td>5.7400</td>\n",
       "      <td>0.970012</td>\n",
       "      <td>0.0</td>\n",
       "      <td>0.0</td>\n",
       "    </tr>\n",
       "    <tr>\n",
       "      <th>11</th>\n",
       "      <td>0</td>\n",
       "      <td>0</td>\n",
       "      <td>0.168992</td>\n",
       "      <td>0.132</td>\n",
       "      <td>0.0172</td>\n",
       "      <td>50</td>\n",
       "      <td>0</td>\n",
       "      <td>5.7400</td>\n",
       "      <td>0.970012</td>\n",
       "      <td>0.0</td>\n",
       "      <td>0.0</td>\n",
       "    </tr>\n",
       "    <tr>\n",
       "      <th>13</th>\n",
       "      <td>0</td>\n",
       "      <td>0</td>\n",
       "      <td>0.168992</td>\n",
       "      <td>0.132</td>\n",
       "      <td>0.0172</td>\n",
       "      <td>50</td>\n",
       "      <td>0</td>\n",
       "      <td>5.7400</td>\n",
       "      <td>0.970012</td>\n",
       "      <td>0.0</td>\n",
       "      <td>0.0</td>\n",
       "    </tr>\n",
       "    <tr>\n",
       "      <th>18</th>\n",
       "      <td>0</td>\n",
       "      <td>0</td>\n",
       "      <td>0.183414</td>\n",
       "      <td>0.105</td>\n",
       "      <td>0.0137</td>\n",
       "      <td>1</td>\n",
       "      <td>0</td>\n",
       "      <td>0.0913</td>\n",
       "      <td>0.016746</td>\n",
       "      <td>0.0</td>\n",
       "      <td>0.0</td>\n",
       "    </tr>\n",
       "  </tbody>\n",
       "</table>\n",
       "</div>"
      ],
      "text/plain": [
       "    Actual  Predicted  ...  Actual_profit  Predicted_profit\n",
       "7        0          0  ...            0.0               0.0\n",
       "10       0          0  ...            0.0               0.0\n",
       "11       0          0  ...            0.0               0.0\n",
       "13       0          0  ...            0.0               0.0\n",
       "18       0          0  ...            0.0               0.0\n",
       "\n",
       "[5 rows x 11 columns]"
      ]
     },
     "execution_count": 119,
     "metadata": {
      "tags": []
     },
     "output_type": "execute_result"
    }
   ],
   "source": [
    "# Create a list to contain the probability of accepting for each quote\n",
    "one_probability=[]\n",
    "for i in range(len(y_probability)):\n",
    "  one_probability.append(y_probability[i][1])\n",
    "\n",
    "# Format the final result table\n",
    "df_forecast=pd.DataFrame({'Actual':y_testing,'Predicted':y_pred,'1_probability':one_probability,'price':df_test['Quore Price (Modifed)_x'],'cost':x_testing['Quote Cost (Modified)'],'quantity':x_testing['Quoted Quantity']})\n",
    "\n",
    "# Caclculate the forecasting error\n",
    "df_forecast['error']=df_forecast['Actual']-df_forecast['Predicted']\n",
    "\n",
    "# Calculate the margin for each quote\n",
    "df_forecast['profit']=(df_forecast['price']-df_forecast['cost'])*df_forecast['quantity']\n",
    "df_forecast['profit']=df_forecast['profit'].apply(lambda x:0 if x<0 else x)\n",
    "\n",
    "# Calculate the expected profit, actual profit, predicted profit for each quote\n",
    "df_forecast['expected_profit']=df_forecast['1_probability']*df_forecast['profit']\n",
    "df_forecast['Actual_profit']=df_forecast['Actual']*df_forecast['profit']\n",
    "df_forecast['Predicted_profit']=df_forecast['Predicted']*df_forecast['profit']\n",
    "\n",
    "# See the finished forecasting result table\n",
    "df_forecast.head(5)"
   ]
  },
  {
   "cell_type": "code",
   "execution_count": 0,
   "metadata": {
    "colab": {
     "base_uri": "https://localhost:8080/",
     "height": 34
    },
    "colab_type": "code",
    "id": "5J-6c0PfPvbk",
    "outputId": "6730dd54-33c1-42f0-8d2f-b145a9df9caa"
   },
   "outputs": [
    {
     "name": "stdout",
     "output_type": "stream",
     "text": [
      "The acceptance accuracy is  0.8901167121926993\n"
     ]
    }
   ],
   "source": [
    "#Output Acceptance accuracy\n",
    "print('The acceptance accuracy is ',df_forecast[df_forecast['error']==0].shape[0]/df_forecast.shape[0])"
   ]
  },
  {
   "cell_type": "code",
   "execution_count": 0,
   "metadata": {
    "colab": {
     "base_uri": "https://localhost:8080/",
     "height": 51
    },
    "colab_type": "code",
    "id": "eRpYhO7WlvLO",
    "outputId": "990c5277-b19e-438b-8aec-d9d20f729e86"
   },
   "outputs": [
    {
     "name": "stdout",
     "output_type": "stream",
     "text": [
      "Total actual profit is  634887.749999\n",
      "Total predicted profit is   660980.0581648925\n"
     ]
    }
   ],
   "source": [
    "#Output total expected profit\n",
    "print('Total actual profit is ',df_forecast.Actual_profit.sum())\n",
    "print('Total predicted profit is  ',df_forecast.expected_profit.sum())"
   ]
  },
  {
   "cell_type": "markdown",
   "metadata": {
    "colab_type": "text",
    "id": "6sstdKxUje9l"
   },
   "source": [
    "**Price Optimization**"
   ]
  },
  {
   "cell_type": "code",
   "execution_count": 0,
   "metadata": {
    "colab": {},
    "colab_type": "code",
    "id": "j_i3UG4GwGtY"
   },
   "outputs": [],
   "source": [
    "# Generate an input table contained all the information needed for the results\n",
    "result2=pd.concat([df_INCA['Item Number'],df_INCA['Estimator'],df_INCA['Divisionregion'],df_INCA['Verticalmarket'],df_INCA['Product Code'],df_INCA['Completed Date'],df_INCA['Quore Price (Modifed)_x'],df_INCA['Quore Price (Modifed)_y'],df_INCA['accept'],df_INCA['Customer Number'],df_INCA['relative_price'],df_INCA['Quote Cost (Modified)'],pd.get_dummies(df_INCA['Sales Incentive Recap Class 2'])\\\n",
    "   ,pd.get_dummies(df_INCA['Divisionregion']),pd.get_dummies(df_INCA['End User Project']),pd.get_dummies(df_INCA['Item Number']),df_INCA['Quoted Quantity']],axis=1).dropna()"
   ]
  },
  {
   "cell_type": "code",
   "execution_count": 0,
   "metadata": {
    "colab": {},
    "colab_type": "code",
    "id": "HqjVqMU3_yII"
   },
   "outputs": [],
   "source": [
    "# Select an item and offer a list of prices\n",
    "Item_Number='EY60196 010005'"
   ]
  },
  {
   "cell_type": "code",
   "execution_count": 0,
   "metadata": {
    "colab": {},
    "colab_type": "code",
    "id": "_NoAMRIK0_Dt"
   },
   "outputs": [],
   "source": [
    "# Define function that return the expected profit of the quote\n",
    "def calculated_profit(df_input):\n",
    "  y_pred=clf.predict(df_input)\n",
    "  y_probability=clf.predict_proba(df_input)\n",
    "\n",
    "  # Create a list to contain the probability of accepting for each quote\n",
    "  one_probability=[]\n",
    "  zero_probability=[]\n",
    "  for i in range(len(y_probability)):\n",
    "    one_probability.append(y_probability[i][1])\n",
    "    zero_probability.append(y_probability[i][0])\n",
    "\n",
    "  # Format the final result table\n",
    "  df_forecast=pd.DataFrame({'Predicted':y_pred,'1_probability':one_probability,'0_probability':zero_probability,'price':df_row['Quore Price (Modifed)_x'],'cost':df_row['Quote Cost (Modified)'],'quantity':df_row['Quoted Quantity']})\n",
    "\n",
    "  # Calculate the margin for each quote\n",
    "  df_forecast['profit']=df_forecast['price']-df_forecast['cost']\n",
    "  \n",
    "  df_forecast['profit']=df_forecast['profit'].apply(lambda x:0 if x<0 else x)\n",
    "\n",
    "  # Calculate the expected profit for each quote\n",
    "  df_forecast['expected_profit']=df_forecast['1_probability']*df_forecast['profit']\n",
    "  result=[df_forecast.expected_profit.sum(),list(df_forecast['0_probability'])[0],list(df_forecast['1_probability'])[0]]\n",
    "  return result"
   ]
  },
  {
   "cell_type": "code",
   "execution_count": 0,
   "metadata": {
    "colab": {},
    "colab_type": "code",
    "id": "Zjp4-w8THK61"
   },
   "outputs": [],
   "source": [
    "#Set upper and lower limit for price ranges\n",
    "Upper=1.6\n",
    "Lower=0.8"
   ]
  },
  {
   "cell_type": "code",
   "execution_count": 0,
   "metadata": {
    "colab": {},
    "colab_type": "code",
    "id": "KMwIaty7HffH"
   },
   "outputs": [],
   "source": [
    "# Extract the item information from the general table\n",
    "df_5000=result2.groupby(by='Item Number').get_group(Item_Number)\n",
    "\n",
    "# Create a list to contain all the item prices\n",
    "Item_Price=[]\n",
    "\n",
    "# Create a list to contain all the item profit\n",
    "Item_Profit=[]\n",
    "\n",
    "# Create a list to find the maximum profit\n",
    "Result_set=[]\n",
    "\n",
    "# Create a list to contain all the item reject probability\n",
    "zeroprobability=[]\n",
    "\n",
    "# Create a list to contain all the item accept probability\n",
    "oneprobability=[]\n",
    "\n",
    "zero=[]\n",
    "one=[]\n",
    "for i in range(df_5000.shape[0]):\n",
    "  df_row=df_5000.copy().iloc[i:i+1,:]\n",
    "# Create a price list that generates a list of prices from 0.8*price to 1.6*price\n",
    "  Price_list=list(np.arange(list(df_row['Quore Price (Modifed)_x'])[0]*Lower,list(df_row['Quore Price (Modifed)_x'])[0]*Upper,(list(df_row['Quore Price (Modifed)_x'])[0]*Upper-list(df_row['Quore Price (Modifed)_x'])[0]*Lower)/10)) \n",
    "  for j in Price_list:\n",
    "# Replace item price with the selected new price\n",
    "    df_row['Quore Price (Modifed)_x']=j\n",
    "# Calculate the new relative price\n",
    "    df_row['relative_price']=df_row['Quore Price (Modifed)_x']-df_row['Quore Price (Modifed)_y']\n",
    "    df_input=df_row.iloc[:,9:].reset_index(drop=True)\n",
    "# Calculate new expected profit\n",
    "    L=calculated_profit(df_input)\n",
    "    Result_set.append(L[0])\n",
    "    zeroprobability.append(L[1])\n",
    "    oneprobability.append(L[2])\n",
    "# Find the maximum profit\n",
    "  Item_Profit.append(max(Result_set))\n",
    "# Get the according price that maximizes the profit\n",
    "  Item_Price.append(Price_list[Result_set.index(max(Result_set))])\n",
    "  zero.append(zeroprobability[Result_set.index(max(Result_set))])\n",
    "  one.append(oneprobability[Result_set.index(max(Result_set))])\n",
    "  Result_set=[]\n",
    "  zeroprobability=[]\n",
    "  oneprobability=[]"
   ]
  },
  {
   "cell_type": "code",
   "execution_count": 0,
   "metadata": {
    "colab": {
     "base_uri": "https://localhost:8080/",
     "height": 425
    },
    "colab_type": "code",
    "id": "x0nLtUgEtToJ",
    "outputId": "de927c5d-54b9-4f35-8b15-b1c70b973f90"
   },
   "outputs": [
    {
     "name": "stderr",
     "output_type": "stream",
     "text": [
      "/usr/local/lib/python3.6/dist-packages/ipykernel_launcher.py:2: SettingWithCopyWarning: \n",
      "A value is trying to be set on a copy of a slice from a DataFrame.\n",
      "Try using .loc[row_indexer,col_indexer] = value instead\n",
      "\n",
      "See the caveats in the documentation: https://pandas.pydata.org/pandas-docs/stable/user_guide/indexing.html#returning-a-view-versus-a-copy\n",
      "  \n",
      "/usr/local/lib/python3.6/dist-packages/ipykernel_launcher.py:3: SettingWithCopyWarning: \n",
      "A value is trying to be set on a copy of a slice from a DataFrame.\n",
      "Try using .loc[row_indexer,col_indexer] = value instead\n",
      "\n",
      "See the caveats in the documentation: https://pandas.pydata.org/pandas-docs/stable/user_guide/indexing.html#returning-a-view-versus-a-copy\n",
      "  This is separate from the ipykernel package so we can avoid doing imports until\n",
      "/usr/local/lib/python3.6/dist-packages/ipykernel_launcher.py:4: SettingWithCopyWarning: \n",
      "A value is trying to be set on a copy of a slice from a DataFrame.\n",
      "Try using .loc[row_indexer,col_indexer] = value instead\n",
      "\n",
      "See the caveats in the documentation: https://pandas.pydata.org/pandas-docs/stable/user_guide/indexing.html#returning-a-view-versus-a-copy\n",
      "  after removing the cwd from sys.path.\n",
      "/usr/local/lib/python3.6/dist-packages/ipykernel_launcher.py:5: SettingWithCopyWarning: \n",
      "A value is trying to be set on a copy of a slice from a DataFrame.\n",
      "Try using .loc[row_indexer,col_indexer] = value instead\n",
      "\n",
      "See the caveats in the documentation: https://pandas.pydata.org/pandas-docs/stable/user_guide/indexing.html#returning-a-view-versus-a-copy\n",
      "  \"\"\"\n"
     ]
    }
   ],
   "source": [
    "# Create new columns with results\n",
    "df_5000['Suggeted Price']=Item_Price\n",
    "df_5000['Optimal Profit']=Item_Profit\n",
    "df_5000['1_probability']=one\n",
    "df_5000['0_probability']=zero"
   ]
  },
  {
   "cell_type": "code",
   "execution_count": 0,
   "metadata": {
    "colab": {},
    "colab_type": "code",
    "id": "csT46tUexYcp"
   },
   "outputs": [],
   "source": [
    "# Create new tabke contain new results\n",
    "df_adjusted_5000=pd.concat([df_5000['Item Number'],df_5000['Estimator'],df_5000['Divisionregion'],df_5000['Verticalmarket'],df_5000['Customer Number'],df_5000['Quote Cost (Modified)'],\\\n",
    "                                     df_5000['Quore Price (Modifed)_x'],df_5000['Suggeted Price'],df_5000['accept'],df_5000['Quoted Quantity'],df_5000['1_probability'],df_5000['0_probability']],axis=1).dropna()\n",
    "df_adjusted_5000=df_adjusted_5000.rename({'Quore Price (Modifed)_x':'Original Price'},axis=1).reset_index(drop=True)"
   ]
  },
  {
   "cell_type": "code",
   "execution_count": 0,
   "metadata": {
    "colab": {
     "base_uri": "https://localhost:8080/",
     "height": 204
    },
    "colab_type": "code",
    "id": "eZ6A942sxfYB",
    "outputId": "097a4b48-7d63-44a9-db46-dc0ae8b014c5"
   },
   "outputs": [
    {
     "data": {
      "text/html": [
       "<div>\n",
       "<style scoped>\n",
       "    .dataframe tbody tr th:only-of-type {\n",
       "        vertical-align: middle;\n",
       "    }\n",
       "\n",
       "    .dataframe tbody tr th {\n",
       "        vertical-align: top;\n",
       "    }\n",
       "\n",
       "    .dataframe thead th {\n",
       "        text-align: right;\n",
       "    }\n",
       "</style>\n",
       "<table border=\"1\" class=\"dataframe\">\n",
       "  <thead>\n",
       "    <tr style=\"text-align: right;\">\n",
       "      <th></th>\n",
       "      <th>Item Number</th>\n",
       "      <th>Estimator</th>\n",
       "      <th>Divisionregion</th>\n",
       "      <th>Verticalmarket</th>\n",
       "      <th>Customer Number</th>\n",
       "      <th>Quote Cost (Modified)</th>\n",
       "      <th>Original Price</th>\n",
       "      <th>Suggeted Price</th>\n",
       "      <th>accept</th>\n",
       "      <th>Quoted Quantity</th>\n",
       "      <th>1_probability</th>\n",
       "      <th>0_probability</th>\n",
       "    </tr>\n",
       "  </thead>\n",
       "  <tbody>\n",
       "    <tr>\n",
       "      <th>0</th>\n",
       "      <td>EY60196 010005</td>\n",
       "      <td>greg.adams@belden.com</td>\n",
       "      <td>IND - Central Region</td>\n",
       "      <td>IND - Discrete</td>\n",
       "      <td>147359</td>\n",
       "      <td>0.004922</td>\n",
       "      <td>0.013</td>\n",
       "      <td>0.01976</td>\n",
       "      <td>0</td>\n",
       "      <td>4</td>\n",
       "      <td>0.186774</td>\n",
       "      <td>0.813226</td>\n",
       "    </tr>\n",
       "    <tr>\n",
       "      <th>1</th>\n",
       "      <td>EY60196 010005</td>\n",
       "      <td>Kate.robinson@belden.com</td>\n",
       "      <td>IND - East Region</td>\n",
       "      <td>ES - Retail</td>\n",
       "      <td>91312</td>\n",
       "      <td>0.004922</td>\n",
       "      <td>0.012</td>\n",
       "      <td>0.01824</td>\n",
       "      <td>1</td>\n",
       "      <td>150</td>\n",
       "      <td>0.179502</td>\n",
       "      <td>0.820498</td>\n",
       "    </tr>\n",
       "    <tr>\n",
       "      <th>2</th>\n",
       "      <td>EY60196 010005</td>\n",
       "      <td>Kate.robinson@belden.com</td>\n",
       "      <td>IND - East Region</td>\n",
       "      <td>ES - Retail</td>\n",
       "      <td>91312</td>\n",
       "      <td>0.004922</td>\n",
       "      <td>0.012</td>\n",
       "      <td>0.01824</td>\n",
       "      <td>0</td>\n",
       "      <td>1</td>\n",
       "      <td>0.179507</td>\n",
       "      <td>0.820493</td>\n",
       "    </tr>\n",
       "    <tr>\n",
       "      <th>3</th>\n",
       "      <td>EY60196 010005</td>\n",
       "      <td>Kate.robinson@belden.com</td>\n",
       "      <td>IND - East Region</td>\n",
       "      <td>ES - Retail</td>\n",
       "      <td>91312</td>\n",
       "      <td>0.004922</td>\n",
       "      <td>0.012</td>\n",
       "      <td>0.01824</td>\n",
       "      <td>0</td>\n",
       "      <td>1</td>\n",
       "      <td>0.179507</td>\n",
       "      <td>0.820493</td>\n",
       "    </tr>\n",
       "    <tr>\n",
       "      <th>4</th>\n",
       "      <td>EY60196 010005</td>\n",
       "      <td>Kate.robinson@belden.com</td>\n",
       "      <td>IND - East Region</td>\n",
       "      <td>ES - Retail</td>\n",
       "      <td>91312</td>\n",
       "      <td>0.004922</td>\n",
       "      <td>0.012</td>\n",
       "      <td>0.01824</td>\n",
       "      <td>0</td>\n",
       "      <td>1</td>\n",
       "      <td>0.179507</td>\n",
       "      <td>0.820493</td>\n",
       "    </tr>\n",
       "  </tbody>\n",
       "</table>\n",
       "</div>"
      ],
      "text/plain": [
       "      Item Number                 Estimator  ... 1_probability 0_probability\n",
       "0  EY60196 010005     greg.adams@belden.com  ...      0.186774      0.813226\n",
       "1  EY60196 010005  Kate.robinson@belden.com  ...      0.179502      0.820498\n",
       "2  EY60196 010005  Kate.robinson@belden.com  ...      0.179507      0.820493\n",
       "3  EY60196 010005  Kate.robinson@belden.com  ...      0.179507      0.820493\n",
       "4  EY60196 010005  Kate.robinson@belden.com  ...      0.179507      0.820493\n",
       "\n",
       "[5 rows x 12 columns]"
      ]
     },
     "execution_count": 58,
     "metadata": {
      "tags": []
     },
     "output_type": "execute_result"
    }
   ],
   "source": [
    "# See the final results table\n",
    "df_adjusted_5000.head(5)"
   ]
  },
  {
   "cell_type": "code",
   "execution_count": 0,
   "metadata": {
    "colab": {},
    "colab_type": "code",
    "id": "OQ0BPgWqyWOA"
   },
   "outputs": [],
   "source": [
    "# Save the optimization results as local file\n",
    "df_adjusted_5000.to_csv('optimization.csv')"
   ]
  },
  {
   "cell_type": "code",
   "execution_count": 0,
   "metadata": {
    "colab": {},
    "colab_type": "code",
    "id": "-ZT2UnkRye9T"
   },
   "outputs": [],
   "source": [
    "# Read the optimization results\n",
    "df_opt=pd.read_csv('optimization.csv').drop(['Unnamed: 0'],axis=1)"
   ]
  },
  {
   "cell_type": "code",
   "execution_count": 0,
   "metadata": {
    "colab": {},
    "colab_type": "code",
    "id": "rCA9ufMYyyXU"
   },
   "outputs": [],
   "source": [
    "# Split the results in half to release computing pressure\n",
    "df_opt['likelyhood']=df_opt['accept']\n",
    "df_opt1=df_opt.iloc[:int(df_opt.shape[0]/2),:]\n",
    "df_opt2=df_opt.iloc[int(df_opt.shape[0]/2):,:]"
   ]
  },
  {
   "cell_type": "code",
   "execution_count": 0,
   "metadata": {
    "colab": {
     "base_uri": "https://localhost:8080/",
     "height": 442
    },
    "colab_type": "code",
    "id": "3JjjmbtnzVy_",
    "outputId": "97b0954e-a4a6-46c4-c9df-5e2e971b17bc"
   },
   "outputs": [
    {
     "name": "stderr",
     "output_type": "stream",
     "text": [
      "/usr/local/lib/python3.6/dist-packages/ipykernel_launcher.py:2: SettingWithCopyWarning: \n",
      "A value is trying to be set on a copy of a slice from a DataFrame.\n",
      "Try using .loc[row_indexer,col_indexer] = value instead\n",
      "\n",
      "See the caveats in the documentation: https://pandas.pydata.org/pandas-docs/stable/user_guide/indexing.html#returning-a-view-versus-a-copy\n",
      "  \n",
      "/usr/local/lib/python3.6/dist-packages/ipykernel_launcher.py:3: SettingWithCopyWarning: \n",
      "A value is trying to be set on a copy of a slice from a DataFrame.\n",
      "Try using .loc[row_indexer,col_indexer] = value instead\n",
      "\n",
      "See the caveats in the documentation: https://pandas.pydata.org/pandas-docs/stable/user_guide/indexing.html#returning-a-view-versus-a-copy\n",
      "  This is separate from the ipykernel package so we can avoid doing imports until\n",
      "/usr/local/lib/python3.6/dist-packages/ipykernel_launcher.py:4: SettingWithCopyWarning: \n",
      "A value is trying to be set on a copy of a slice from a DataFrame.\n",
      "Try using .loc[row_indexer,col_indexer] = value instead\n",
      "\n",
      "See the caveats in the documentation: https://pandas.pydata.org/pandas-docs/stable/user_guide/indexing.html#returning-a-view-versus-a-copy\n",
      "  after removing the cwd from sys.path.\n",
      "/usr/local/lib/python3.6/dist-packages/ipykernel_launcher.py:5: SettingWithCopyWarning: \n",
      "A value is trying to be set on a copy of a slice from a DataFrame.\n",
      "Try using .loc[row_indexer,col_indexer] = value instead\n",
      "\n",
      "See the caveats in the documentation: https://pandas.pydata.org/pandas-docs/stable/user_guide/indexing.html#returning-a-view-versus-a-copy\n",
      "  \"\"\"\n"
     ]
    },
    {
     "data": {
      "text/plain": [
       "-9.572958029030362"
      ]
     },
     "execution_count": 88,
     "metadata": {
      "tags": []
     },
     "output_type": "execute_result"
    }
   ],
   "source": [
    "# Calculate the loglikelyhood\n",
    "df_opt1['likelyhood']=df_opt1['accept'].apply(lambda x: df_opt1['1_probability'] if x==1 else df_opt1['0_probability'])\n",
    "df_opt1['loglikelyhood']=np.log(df_opt1['likelyhood'])\n",
    "df_opt2['likelyhood']=df_opt2['accept'].apply(lambda x: df_opt2['1_probability'] if x==1 else df_opt2['0_probability'])\n",
    "df_opt2['loglikelyhood']=np.log(df_opt2['likelyhood'])\n",
    "df_opt=pd.concat([df_opt1,df_opt2])\n",
    "df_opt['loglikelyhood'].sum()"
   ]
  }
 ],
 "metadata": {
  "accelerator": "GPU",
  "colab": {
   "collapsed_sections": [],
   "machine_shape": "hm",
   "name": "Belden_Relative_SVM_INCA.ipynb",
   "provenance": []
  },
  "kernelspec": {
   "display_name": "Python 3",
   "language": "python",
   "name": "python3"
  },
  "language_info": {
   "codemirror_mode": {
    "name": "ipython",
    "version": 3
   },
   "file_extension": ".py",
   "mimetype": "text/x-python",
   "name": "python",
   "nbconvert_exporter": "python",
   "pygments_lexer": "ipython3",
   "version": "3.7.4"
  }
 },
 "nbformat": 4,
 "nbformat_minor": 1
}
